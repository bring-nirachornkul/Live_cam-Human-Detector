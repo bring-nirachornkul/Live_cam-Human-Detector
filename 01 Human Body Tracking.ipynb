{
 "cells": [
  {
   "cell_type": "markdown",
   "id": "532d12a9",
   "metadata": {},
   "source": [
    "# Import Libraries"
   ]
  },
  {
   "cell_type": "code",
   "execution_count": 1,
   "id": "70beed96",
   "metadata": {
    "scrolled": false
   },
   "outputs": [
    {
     "name": "stderr",
     "output_type": "stream",
     "text": [
      "objc[1699]: Class CaptureDelegate is implemented in both /Users/bring/tensorflow-test/env/lib/python3.10/site-packages/cv2/cv2.abi3.so (0x13e6e2840) and /Users/bring/tensorflow-test/env/lib/python3.10/site-packages/mediapipe/.dylibs/libopencv_videoio.3.4.16.dylib (0x11ffc0860). One of the two will be used. Which one is undefined.\n",
      "objc[1699]: Class CVWindow is implemented in both /Users/bring/tensorflow-test/env/lib/python3.10/site-packages/cv2/cv2.abi3.so (0x13e6e2890) and /Users/bring/tensorflow-test/env/lib/python3.10/site-packages/mediapipe/.dylibs/libopencv_highgui.3.4.16.dylib (0x107dfca68). One of the two will be used. Which one is undefined.\n",
      "objc[1699]: Class CVView is implemented in both /Users/bring/tensorflow-test/env/lib/python3.10/site-packages/cv2/cv2.abi3.so (0x13e6e28b8) and /Users/bring/tensorflow-test/env/lib/python3.10/site-packages/mediapipe/.dylibs/libopencv_highgui.3.4.16.dylib (0x107dfca90). One of the two will be used. Which one is undefined.\n",
      "objc[1699]: Class CVSlider is implemented in both /Users/bring/tensorflow-test/env/lib/python3.10/site-packages/cv2/cv2.abi3.so (0x13e6e28e0) and /Users/bring/tensorflow-test/env/lib/python3.10/site-packages/mediapipe/.dylibs/libopencv_highgui.3.4.16.dylib (0x107dfcab8). One of the two will be used. Which one is undefined.\n"
     ]
    }
   ],
   "source": [
    "#source : video version\n",
    "\n",
    "import cv2\n",
    "import mediapipe as mp\n",
    "import numpy as np\n",
    "from mediapipe.framework.formats import landmark_pb2"
   ]
  },
  {
   "cell_type": "markdown",
   "id": "0aa983f5",
   "metadata": {},
   "source": [
    "# Load the input video"
   ]
  },
  {
   "cell_type": "code",
   "execution_count": 2,
   "id": "e78fa199",
   "metadata": {},
   "outputs": [],
   "source": [
    "video = cv2.VideoCapture(0)\n",
    "#video = cv2.VideoCapture(\"Videos/01_stand.mp4\")"
   ]
  },
  {
   "cell_type": "markdown",
   "id": "ddf13865",
   "metadata": {},
   "source": [
    "# Pose Model"
   ]
  },
  {
   "cell_type": "code",
   "execution_count": 3,
   "id": "18400838",
   "metadata": {},
   "outputs": [],
   "source": [
    "mp_pose = mp.solutions.pose\n",
    "pose = mp_pose.Pose()\n",
    "mp_draw = mp.solutions.drawing_utils"
   ]
  },
  {
   "cell_type": "markdown",
   "id": "8e725ed2",
   "metadata": {},
   "source": [
    "# Set the resolution of the video frame"
   ]
  },
  {
   "cell_type": "code",
   "execution_count": 4,
   "id": "e7a7658e",
   "metadata": {},
   "outputs": [],
   "source": [
    "frame_width = int(video.get(3))\n",
    "frame_height = int(video.get(4))\n",
    "\n",
    "size = (frame_width, frame_height)"
   ]
  },
  {
   "cell_type": "markdown",
   "id": "346645f2",
   "metadata": {},
   "source": [
    "# Save the video"
   ]
  },
  {
   "cell_type": "code",
   "execution_count": 5,
   "id": "1e372e61",
   "metadata": {},
   "outputs": [
    {
     "name": "stderr",
     "output_type": "stream",
     "text": [
      "INFO: Created TensorFlow Lite XNNPACK delegate for CPU.\n"
     ]
    }
   ],
   "source": [
    "#save the video\n",
    "result_vid1 = cv2.VideoWriter('estimation.avi', \n",
    "                         cv2.VideoWriter_fourcc(*'MJPG'),\n",
    "                         10, size)\n",
    "\n",
    "result_vid2 = cv2.VideoWriter('extraction.avi', \n",
    "                         cv2.VideoWriter_fourcc(*'MJPG'),\n",
    "                         10, size)        "
   ]
  },
  {
   "cell_type": "markdown",
   "id": "133d694f",
   "metadata": {},
   "source": [
    "# Running Model"
   ]
  },
  {
   "cell_type": "code",
   "execution_count": null,
   "id": "05425e0a",
   "metadata": {},
   "outputs": [],
   "source": [
    "while True:\n",
    "    ret, img = video.read()\n",
    "    \n",
    "    results = pose.process(img)\n",
    "    results_land = results.pose_landmarks\n",
    "    mp_draw.draw_landmarks(img, results_land, mp_pose.POSE_CONNECTIONS,\n",
    "                          mp_draw.DrawingSpec((255,0, 0), 2, 2) , mp_draw.DrawingSpec((0,255, 0), 2, 3))\n",
    "    cv2.imshow(\"Pose Estimate\", img)    \n",
    "    result_vid1.write(img)\n",
    "    \n",
    "    \n",
    "    opImg = np.zeros([size[1], size[0], 3], dtype=np.uint8)\n",
    "    opImg.fill(255)\n",
    "    mp_draw.draw_landmarks(opImg, results_land, mp_pose.POSE_CONNECTIONS,\n",
    "                          mp_draw.DrawingSpec((255,0, 0), 2, 2) , mp_draw.DrawingSpec((0,255, 0), 2, 2))\n",
    "    cv2.imshow(\"Extracted Pose\", opImg)\n",
    "    result_vid2.write(opImg)\n",
    "    \n",
    "    #print the position value of the object\n",
    "    #print(results_land)\n",
    "    \n",
    "    \n",
    "\n",
    "    # Exit the loop if the 'q' key is pressed\n",
    "    if cv2.waitKey(1) & 0xFF == ord('q'):\n",
    "        False\n",
    "        break\n",
    "        \n",
    "# Release the video capture and close the window\n",
    "video.release()\n",
    "result_vid1.release()\n",
    "result_vid2.release()\n",
    "cv2.destroyAllWindows()"
   ]
  }
 ],
 "metadata": {
  "kernelspec": {
   "display_name": "Python 3 (ipykernel)",
   "language": "python",
   "name": "python3"
  },
  "language_info": {
   "codemirror_mode": {
    "name": "ipython",
    "version": 3
   },
   "file_extension": ".py",
   "mimetype": "text/x-python",
   "name": "python",
   "nbconvert_exporter": "python",
   "pygments_lexer": "ipython3",
   "version": "3.10.6"
  }
 },
 "nbformat": 4,
 "nbformat_minor": 5
}
